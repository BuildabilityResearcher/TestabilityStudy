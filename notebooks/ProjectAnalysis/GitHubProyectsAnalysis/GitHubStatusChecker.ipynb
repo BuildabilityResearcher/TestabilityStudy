{
 "cells": [
  {
   "cell_type": "markdown",
   "metadata": {},
   "source": [
    "# Step 3.1: GitHub Status Checker"
   ]
  },
  {
   "cell_type": "code",
   "execution_count": 2,
   "metadata": {},
   "outputs": [],
   "source": [
    "import sys\n",
    "# To import python scripts from other folders\n",
    "sys.path.append('../')\n",
    "import json\n",
    "from ProjectAnalysis import ProjectAnalysis\n",
    "import os\n",
    "from os import listdir\n",
    "from os.path import isfile, join\n",
    "from collections import Counter\n",
    "import pandas as pd\n",
    "import re\n",
    "from datetime import datetime\n",
    "results_path=\"/home/results/GitHub/\"\n",
    "import time\n",
    "from IPython.display import clear_output"
   ]
  },
  {
   "cell_type": "code",
   "execution_count": 14,
   "metadata": {
    "scrolled": false
   },
   "outputs": [],
   "source": [
    "def get_projects_resume():\n",
    "    projects = []\n",
    "    for project_name in [p for p in os.listdir(results_path) if os.path.isdir(results_path+p)]:\n",
    "        pa = ProjectAnalysis(project_name,  1, root=results_path)\n",
    "        \n",
    "        commitsWithBuildSystem = 0\n",
    "        \n",
    "        for idx, commit_dict in enumerate(pa.csvDict.values()):\n",
    "            build=pa.get_build_file(idx, commit_dict['commit'])\n",
    "            if any(b['build_system'] in ['Maven', 'Gradle', 'Ant'] for b in build['builds_checked']):\n",
    "                commitsWithBuildSystem += 1\n",
    "            \n",
    "            \n",
    "        projects.append([\n",
    "            pa.project,\n",
    "            commitsWithBuildSystem,\n",
    "            pa.df()[(pa.df()['build'] == 'SUCCESS')]['id'].count(),\n",
    "            pa.df()[(pa.df()['build'] == 'FAIL')]['id'].count(),\n",
    "            pa.df()[(pa.df()['build'] == 'NO')]['id'].count(),\n",
    "            pa.df()['id'].count(),\n",
    "            pa.df()[(pa.df()['build'] == 'SUCCESS')]['id'].count() * 100/ commitsWithBuildSystem\n",
    "        ])\n",
    "\n",
    "    df = pd.DataFrame(projects, columns = ['Project', 'Buildable', 'Success', 'Fail', 'No', 'TotalCommits', '% SUCCESS']).round(decimals=2)\n",
    "    print(\"Projects: %d\"%df['Project'].count())\n",
    "    df = df.sort_values(by=['Project'])\n",
    "    return df"
   ]
  },
  {
   "cell_type": "code",
   "execution_count": 15,
   "metadata": {
    "scrolled": false
   },
   "outputs": [
    {
     "name": "stdout",
     "output_type": "stream",
     "text": [
      "Projects: 37\n"
     ]
    }
   ],
   "source": [
    "df = get_projects_resume()\n",
    "df.to_csv('GitHubStatusCheckerResults.csv', index=False)"
   ]
  }
 ],
 "metadata": {
  "kernelspec": {
   "display_name": "Python 3",
   "language": "python",
   "name": "python3"
  },
  "language_info": {
   "codemirror_mode": {
    "name": "ipython",
    "version": 3
   },
   "file_extension": ".py",
   "mimetype": "text/x-python",
   "name": "python",
   "nbconvert_exporter": "python",
   "pygments_lexer": "ipython3",
   "version": "3.7.3"
  }
 },
 "nbformat": 4,
 "nbformat_minor": 2
}
