{
 "cells": [
  {
   "cell_type": "markdown",
   "metadata": {},
   "source": [
    "# Step 3.1: GitHub Status Analysis"
   ]
  },
  {
   "cell_type": "code",
   "execution_count": 1,
   "metadata": {},
   "outputs": [],
   "source": [
    "import os\n",
    "from os import listdir\n",
    "from os.path import isfile, join\n",
    "from collections import Counter\n",
    "import pandas as pd\n",
    "import json"
   ]
  },
  {
   "cell_type": "code",
   "execution_count": 2,
   "metadata": {
    "scrolled": false
   },
   "outputs": [
    {
     "data": {
      "text/html": [
       "<div>\n",
       "<style scoped>\n",
       "    .dataframe tbody tr th:only-of-type {\n",
       "        vertical-align: middle;\n",
       "    }\n",
       "\n",
       "    .dataframe tbody tr th {\n",
       "        vertical-align: top;\n",
       "    }\n",
       "\n",
       "    .dataframe thead th {\n",
       "        text-align: right;\n",
       "    }\n",
       "</style>\n",
       "<table border=\"1\" class=\"dataframe\">\n",
       "  <thead>\n",
       "    <tr style=\"text-align: right;\">\n",
       "      <th></th>\n",
       "      <th>Project</th>\n",
       "      <th>Buildable</th>\n",
       "      <th>Success</th>\n",
       "      <th>Fail</th>\n",
       "      <th>No</th>\n",
       "      <th>TotalCommits</th>\n",
       "      <th>% SUCCESS</th>\n",
       "    </tr>\n",
       "  </thead>\n",
       "  <tbody>\n",
       "    <tr>\n",
       "      <th>0</th>\n",
       "      <td>Hystrix</td>\n",
       "      <td>2108</td>\n",
       "      <td>1115</td>\n",
       "      <td>994</td>\n",
       "      <td>0</td>\n",
       "      <td>2109</td>\n",
       "      <td>52.89</td>\n",
       "    </tr>\n",
       "    <tr>\n",
       "      <th>1</th>\n",
       "      <td>Jest</td>\n",
       "      <td>1146</td>\n",
       "      <td>457</td>\n",
       "      <td>690</td>\n",
       "      <td>0</td>\n",
       "      <td>1147</td>\n",
       "      <td>39.88</td>\n",
       "    </tr>\n",
       "    <tr>\n",
       "      <th>2</th>\n",
       "      <td>Twitter4J</td>\n",
       "      <td>2318</td>\n",
       "      <td>851</td>\n",
       "      <td>1467</td>\n",
       "      <td>0</td>\n",
       "      <td>2318</td>\n",
       "      <td>36.71</td>\n",
       "    </tr>\n",
       "    <tr>\n",
       "      <th>3</th>\n",
       "      <td>assertj-core</td>\n",
       "      <td>2855</td>\n",
       "      <td>2435</td>\n",
       "      <td>420</td>\n",
       "      <td>0</td>\n",
       "      <td>2855</td>\n",
       "      <td>85.29</td>\n",
       "    </tr>\n",
       "    <tr>\n",
       "      <th>4</th>\n",
       "      <td>aws-sdk-java</td>\n",
       "      <td>2496</td>\n",
       "      <td>2231</td>\n",
       "      <td>265</td>\n",
       "      <td>0</td>\n",
       "      <td>2496</td>\n",
       "      <td>89.38</td>\n",
       "    </tr>\n",
       "    <tr>\n",
       "      <th>5</th>\n",
       "      <td>bookkeeper</td>\n",
       "      <td>2230</td>\n",
       "      <td>250</td>\n",
       "      <td>2008</td>\n",
       "      <td>0</td>\n",
       "      <td>2258</td>\n",
       "      <td>11.21</td>\n",
       "    </tr>\n",
       "    <tr>\n",
       "      <th>6</th>\n",
       "      <td>commons-lang</td>\n",
       "      <td>5723</td>\n",
       "      <td>4943</td>\n",
       "      <td>781</td>\n",
       "      <td>0</td>\n",
       "      <td>5724</td>\n",
       "      <td>86.37</td>\n",
       "    </tr>\n",
       "    <tr>\n",
       "      <th>7</th>\n",
       "      <td>connectbot</td>\n",
       "      <td>1727</td>\n",
       "      <td>0</td>\n",
       "      <td>1791</td>\n",
       "      <td>0</td>\n",
       "      <td>1791</td>\n",
       "      <td>0.00</td>\n",
       "    </tr>\n",
       "    <tr>\n",
       "      <th>8</th>\n",
       "      <td>docker-java</td>\n",
       "      <td>1982</td>\n",
       "      <td>977</td>\n",
       "      <td>1006</td>\n",
       "      <td>0</td>\n",
       "      <td>1983</td>\n",
       "      <td>49.29</td>\n",
       "    </tr>\n",
       "    <tr>\n",
       "      <th>9</th>\n",
       "      <td>elasticsearch-hadoop</td>\n",
       "      <td>1983</td>\n",
       "      <td>0</td>\n",
       "      <td>1983</td>\n",
       "      <td>0</td>\n",
       "      <td>1983</td>\n",
       "      <td>0.00</td>\n",
       "    </tr>\n",
       "    <tr>\n",
       "      <th>10</th>\n",
       "      <td>fastjson</td>\n",
       "      <td>3514</td>\n",
       "      <td>2677</td>\n",
       "      <td>838</td>\n",
       "      <td>0</td>\n",
       "      <td>3515</td>\n",
       "      <td>76.18</td>\n",
       "    </tr>\n",
       "    <tr>\n",
       "      <th>11</th>\n",
       "      <td>httpcomponents-client</td>\n",
       "      <td>3099</td>\n",
       "      <td>1944</td>\n",
       "      <td>1175</td>\n",
       "      <td>0</td>\n",
       "      <td>3119</td>\n",
       "      <td>62.73</td>\n",
       "    </tr>\n",
       "    <tr>\n",
       "      <th>12</th>\n",
       "      <td>incubator-pinot</td>\n",
       "      <td>6903</td>\n",
       "      <td>1594</td>\n",
       "      <td>5321</td>\n",
       "      <td>0</td>\n",
       "      <td>6915</td>\n",
       "      <td>23.09</td>\n",
       "    </tr>\n",
       "    <tr>\n",
       "      <th>13</th>\n",
       "      <td>jackson-databind</td>\n",
       "      <td>6475</td>\n",
       "      <td>1503</td>\n",
       "      <td>4972</td>\n",
       "      <td>0</td>\n",
       "      <td>6475</td>\n",
       "      <td>23.21</td>\n",
       "    </tr>\n",
       "    <tr>\n",
       "      <th>14</th>\n",
       "      <td>jacoco</td>\n",
       "      <td>826</td>\n",
       "      <td>0</td>\n",
       "      <td>1676</td>\n",
       "      <td>0</td>\n",
       "      <td>1676</td>\n",
       "      <td>0.00</td>\n",
       "    </tr>\n",
       "    <tr>\n",
       "      <th>15</th>\n",
       "      <td>java-client</td>\n",
       "      <td>1473</td>\n",
       "      <td>424</td>\n",
       "      <td>1093</td>\n",
       "      <td>0</td>\n",
       "      <td>1517</td>\n",
       "      <td>28.78</td>\n",
       "    </tr>\n",
       "    <tr>\n",
       "      <th>16</th>\n",
       "      <td>java-driver</td>\n",
       "      <td>1398</td>\n",
       "      <td>770</td>\n",
       "      <td>628</td>\n",
       "      <td>0</td>\n",
       "      <td>1398</td>\n",
       "      <td>55.08</td>\n",
       "    </tr>\n",
       "    <tr>\n",
       "      <th>17</th>\n",
       "      <td>javaparser</td>\n",
       "      <td>6487</td>\n",
       "      <td>5998</td>\n",
       "      <td>497</td>\n",
       "      <td>0</td>\n",
       "      <td>6495</td>\n",
       "      <td>92.46</td>\n",
       "    </tr>\n",
       "    <tr>\n",
       "      <th>18</th>\n",
       "      <td>jgit</td>\n",
       "      <td>7798</td>\n",
       "      <td>6723</td>\n",
       "      <td>1124</td>\n",
       "      <td>0</td>\n",
       "      <td>7847</td>\n",
       "      <td>86.21</td>\n",
       "    </tr>\n",
       "    <tr>\n",
       "      <th>19</th>\n",
       "      <td>json-schema-validator</td>\n",
       "      <td>2787</td>\n",
       "      <td>2407</td>\n",
       "      <td>380</td>\n",
       "      <td>0</td>\n",
       "      <td>2787</td>\n",
       "      <td>86.37</td>\n",
       "    </tr>\n",
       "    <tr>\n",
       "      <th>20</th>\n",
       "      <td>jsprit</td>\n",
       "      <td>2028</td>\n",
       "      <td>1052</td>\n",
       "      <td>1041</td>\n",
       "      <td>0</td>\n",
       "      <td>2093</td>\n",
       "      <td>51.87</td>\n",
       "    </tr>\n",
       "    <tr>\n",
       "      <th>21</th>\n",
       "      <td>junit4</td>\n",
       "      <td>2425</td>\n",
       "      <td>1125</td>\n",
       "      <td>1307</td>\n",
       "      <td>0</td>\n",
       "      <td>2432</td>\n",
       "      <td>46.39</td>\n",
       "    </tr>\n",
       "    <tr>\n",
       "      <th>22</th>\n",
       "      <td>kairosdb</td>\n",
       "      <td>277</td>\n",
       "      <td>242</td>\n",
       "      <td>1126</td>\n",
       "      <td>0</td>\n",
       "      <td>1368</td>\n",
       "      <td>87.36</td>\n",
       "    </tr>\n",
       "    <tr>\n",
       "      <th>23</th>\n",
       "      <td>log4j</td>\n",
       "      <td>2898</td>\n",
       "      <td>133</td>\n",
       "      <td>3142</td>\n",
       "      <td>0</td>\n",
       "      <td>3275</td>\n",
       "      <td>4.59</td>\n",
       "    </tr>\n",
       "    <tr>\n",
       "      <th>24</th>\n",
       "      <td>mina</td>\n",
       "      <td>2400</td>\n",
       "      <td>1218</td>\n",
       "      <td>1183</td>\n",
       "      <td>0</td>\n",
       "      <td>2401</td>\n",
       "      <td>50.75</td>\n",
       "    </tr>\n",
       "    <tr>\n",
       "      <th>25</th>\n",
       "      <td>mockito</td>\n",
       "      <td>5240</td>\n",
       "      <td>2984</td>\n",
       "      <td>2267</td>\n",
       "      <td>0</td>\n",
       "      <td>5251</td>\n",
       "      <td>56.95</td>\n",
       "    </tr>\n",
       "    <tr>\n",
       "      <th>26</th>\n",
       "      <td>nifi</td>\n",
       "      <td>4742</td>\n",
       "      <td>0</td>\n",
       "      <td>5786</td>\n",
       "      <td>0</td>\n",
       "      <td>5786</td>\n",
       "      <td>0.00</td>\n",
       "    </tr>\n",
       "    <tr>\n",
       "      <th>27</th>\n",
       "      <td>opengrok</td>\n",
       "      <td>5154</td>\n",
       "      <td>2683</td>\n",
       "      <td>2472</td>\n",
       "      <td>0</td>\n",
       "      <td>5155</td>\n",
       "      <td>52.06</td>\n",
       "    </tr>\n",
       "    <tr>\n",
       "      <th>28</th>\n",
       "      <td>pig</td>\n",
       "      <td>3692</td>\n",
       "      <td>518</td>\n",
       "      <td>3175</td>\n",
       "      <td>0</td>\n",
       "      <td>3693</td>\n",
       "      <td>14.03</td>\n",
       "    </tr>\n",
       "    <tr>\n",
       "      <th>29</th>\n",
       "      <td>powermock</td>\n",
       "      <td>1607</td>\n",
       "      <td>606</td>\n",
       "      <td>1001</td>\n",
       "      <td>0</td>\n",
       "      <td>1607</td>\n",
       "      <td>37.71</td>\n",
       "    </tr>\n",
       "    <tr>\n",
       "      <th>30</th>\n",
       "      <td>quickstart</td>\n",
       "      <td>1787</td>\n",
       "      <td>986</td>\n",
       "      <td>1153</td>\n",
       "      <td>0</td>\n",
       "      <td>2139</td>\n",
       "      <td>55.18</td>\n",
       "    </tr>\n",
       "    <tr>\n",
       "      <th>31</th>\n",
       "      <td>spring-data-jpa</td>\n",
       "      <td>1406</td>\n",
       "      <td>535</td>\n",
       "      <td>872</td>\n",
       "      <td>0</td>\n",
       "      <td>1407</td>\n",
       "      <td>38.05</td>\n",
       "    </tr>\n",
       "    <tr>\n",
       "      <th>32</th>\n",
       "      <td>spring-security-oauth</td>\n",
       "      <td>1382</td>\n",
       "      <td>535</td>\n",
       "      <td>848</td>\n",
       "      <td>0</td>\n",
       "      <td>1383</td>\n",
       "      <td>38.71</td>\n",
       "    </tr>\n",
       "    <tr>\n",
       "      <th>33</th>\n",
       "      <td>swagger-core</td>\n",
       "      <td>3705</td>\n",
       "      <td>1798</td>\n",
       "      <td>1908</td>\n",
       "      <td>0</td>\n",
       "      <td>3706</td>\n",
       "      <td>48.53</td>\n",
       "    </tr>\n",
       "    <tr>\n",
       "      <th>34</th>\n",
       "      <td>thymeleaf</td>\n",
       "      <td>1653</td>\n",
       "      <td>0</td>\n",
       "      <td>1654</td>\n",
       "      <td>0</td>\n",
       "      <td>1654</td>\n",
       "      <td>0.00</td>\n",
       "    </tr>\n",
       "    <tr>\n",
       "      <th>35</th>\n",
       "      <td>wiremock</td>\n",
       "      <td>1368</td>\n",
       "      <td>10</td>\n",
       "      <td>1817</td>\n",
       "      <td>0</td>\n",
       "      <td>1827</td>\n",
       "      <td>0.73</td>\n",
       "    </tr>\n",
       "    <tr>\n",
       "      <th>36</th>\n",
       "      <td>zxing</td>\n",
       "      <td>3502</td>\n",
       "      <td>856</td>\n",
       "      <td>2671</td>\n",
       "      <td>0</td>\n",
       "      <td>3527</td>\n",
       "      <td>24.44</td>\n",
       "    </tr>\n",
       "  </tbody>\n",
       "</table>\n",
       "</div>"
      ],
      "text/plain": [
       "                  Project  Buildable  Success  Fail  No  TotalCommits  \\\n",
       "0                 Hystrix       2108     1115   994   0          2109   \n",
       "1                    Jest       1146      457   690   0          1147   \n",
       "2               Twitter4J       2318      851  1467   0          2318   \n",
       "3            assertj-core       2855     2435   420   0          2855   \n",
       "4            aws-sdk-java       2496     2231   265   0          2496   \n",
       "5              bookkeeper       2230      250  2008   0          2258   \n",
       "6            commons-lang       5723     4943   781   0          5724   \n",
       "7              connectbot       1727        0  1791   0          1791   \n",
       "8             docker-java       1982      977  1006   0          1983   \n",
       "9    elasticsearch-hadoop       1983        0  1983   0          1983   \n",
       "10               fastjson       3514     2677   838   0          3515   \n",
       "11  httpcomponents-client       3099     1944  1175   0          3119   \n",
       "12        incubator-pinot       6903     1594  5321   0          6915   \n",
       "13       jackson-databind       6475     1503  4972   0          6475   \n",
       "14                 jacoco        826        0  1676   0          1676   \n",
       "15            java-client       1473      424  1093   0          1517   \n",
       "16            java-driver       1398      770   628   0          1398   \n",
       "17             javaparser       6487     5998   497   0          6495   \n",
       "18                   jgit       7798     6723  1124   0          7847   \n",
       "19  json-schema-validator       2787     2407   380   0          2787   \n",
       "20                 jsprit       2028     1052  1041   0          2093   \n",
       "21                 junit4       2425     1125  1307   0          2432   \n",
       "22               kairosdb        277      242  1126   0          1368   \n",
       "23                  log4j       2898      133  3142   0          3275   \n",
       "24                   mina       2400     1218  1183   0          2401   \n",
       "25                mockito       5240     2984  2267   0          5251   \n",
       "26                   nifi       4742        0  5786   0          5786   \n",
       "27               opengrok       5154     2683  2472   0          5155   \n",
       "28                    pig       3692      518  3175   0          3693   \n",
       "29              powermock       1607      606  1001   0          1607   \n",
       "30             quickstart       1787      986  1153   0          2139   \n",
       "31        spring-data-jpa       1406      535   872   0          1407   \n",
       "32  spring-security-oauth       1382      535   848   0          1383   \n",
       "33           swagger-core       3705     1798  1908   0          3706   \n",
       "34              thymeleaf       1653        0  1654   0          1654   \n",
       "35               wiremock       1368       10  1817   0          1827   \n",
       "36                  zxing       3502      856  2671   0          3527   \n",
       "\n",
       "    % SUCCESS  \n",
       "0       52.89  \n",
       "1       39.88  \n",
       "2       36.71  \n",
       "3       85.29  \n",
       "4       89.38  \n",
       "5       11.21  \n",
       "6       86.37  \n",
       "7        0.00  \n",
       "8       49.29  \n",
       "9        0.00  \n",
       "10      76.18  \n",
       "11      62.73  \n",
       "12      23.09  \n",
       "13      23.21  \n",
       "14       0.00  \n",
       "15      28.78  \n",
       "16      55.08  \n",
       "17      92.46  \n",
       "18      86.21  \n",
       "19      86.37  \n",
       "20      51.87  \n",
       "21      46.39  \n",
       "22      87.36  \n",
       "23       4.59  \n",
       "24      50.75  \n",
       "25      56.95  \n",
       "26       0.00  \n",
       "27      52.06  \n",
       "28      14.03  \n",
       "29      37.71  \n",
       "30      55.18  \n",
       "31      38.05  \n",
       "32      38.71  \n",
       "33      48.53  \n",
       "34       0.00  \n",
       "35       0.73  \n",
       "36      24.44  "
      ]
     },
     "execution_count": 2,
     "metadata": {},
     "output_type": "execute_result"
    }
   ],
   "source": [
    "df = pd.read_csv('GitHubStatusCheckerResults.csv')\n",
    "df"
   ]
  },
  {
   "cell_type": "code",
   "execution_count": 3,
   "metadata": {
    "scrolled": false
   },
   "outputs": [
    {
     "data": {
      "text/plain": [
       "count    37.000000\n",
       "mean     43.040000\n",
       "std      29.895102\n",
       "min       0.000000\n",
       "25%      23.090000\n",
       "50%      46.390000\n",
       "75%      56.950000\n",
       "max      92.460000\n",
       "Name: % SUCCESS, dtype: float64"
      ]
     },
     "execution_count": 3,
     "metadata": {},
     "output_type": "execute_result"
    }
   ],
   "source": [
    "df['% SUCCESS'].describe()"
   ]
  },
  {
   "cell_type": "code",
   "execution_count": 4,
   "metadata": {},
   "outputs": [
    {
     "data": {
      "text/html": [
       "<div>\n",
       "<style scoped>\n",
       "    .dataframe tbody tr th:only-of-type {\n",
       "        vertical-align: middle;\n",
       "    }\n",
       "\n",
       "    .dataframe tbody tr th {\n",
       "        vertical-align: top;\n",
       "    }\n",
       "\n",
       "    .dataframe thead th {\n",
       "        text-align: right;\n",
       "    }\n",
       "</style>\n",
       "<table border=\"1\" class=\"dataframe\">\n",
       "  <thead>\n",
       "    <tr style=\"text-align: right;\">\n",
       "      <th></th>\n",
       "      <th>TotalCommits</th>\n",
       "    </tr>\n",
       "  </thead>\n",
       "  <tbody>\n",
       "    <tr>\n",
       "      <th>count</th>\n",
       "      <td>37.000000</td>\n",
       "    </tr>\n",
       "    <tr>\n",
       "      <th>mean</th>\n",
       "      <td>3111.135135</td>\n",
       "    </tr>\n",
       "    <tr>\n",
       "      <th>std</th>\n",
       "      <td>1825.441243</td>\n",
       "    </tr>\n",
       "    <tr>\n",
       "      <th>min</th>\n",
       "      <td>1147.000000</td>\n",
       "    </tr>\n",
       "    <tr>\n",
       "      <th>25%</th>\n",
       "      <td>1791.000000</td>\n",
       "    </tr>\n",
       "    <tr>\n",
       "      <th>50%</th>\n",
       "      <td>2401.000000</td>\n",
       "    </tr>\n",
       "    <tr>\n",
       "      <th>75%</th>\n",
       "      <td>3693.000000</td>\n",
       "    </tr>\n",
       "    <tr>\n",
       "      <th>max</th>\n",
       "      <td>7847.000000</td>\n",
       "    </tr>\n",
       "  </tbody>\n",
       "</table>\n",
       "</div>"
      ],
      "text/plain": [
       "       TotalCommits\n",
       "count     37.000000\n",
       "mean    3111.135135\n",
       "std     1825.441243\n",
       "min     1147.000000\n",
       "25%     1791.000000\n",
       "50%     2401.000000\n",
       "75%     3693.000000\n",
       "max     7847.000000"
      ]
     },
     "execution_count": 4,
     "metadata": {},
     "output_type": "execute_result"
    }
   ],
   "source": [
    "df[['TotalCommits']].describe()"
   ]
  },
  {
   "cell_type": "code",
   "execution_count": 5,
   "metadata": {},
   "outputs": [
    {
     "data": {
      "text/plain": [
       "Buildable       110594\n",
       "Success          52580\n",
       "Fail             62532\n",
       "No                   0\n",
       "TotalCommits    115112\n",
       "dtype: int64"
      ]
     },
     "execution_count": 5,
     "metadata": {},
     "output_type": "execute_result"
    }
   ],
   "source": [
    "# Sum of each field\n",
    "df[[\"Buildable\",\"Success\",\"Fail\",\"No\",\"TotalCommits\"]].sum()"
   ]
  },
  {
   "cell_type": "code",
   "execution_count": 6,
   "metadata": {},
   "outputs": [
    {
     "data": {
      "text/plain": [
       "Success         1421.081081\n",
       "Fail            1690.054054\n",
       "No                 0.000000\n",
       "TotalCommits    3111.135135\n",
       "% SUCCESS         43.040000\n",
       "dtype: float64"
      ]
     },
     "execution_count": 6,
     "metadata": {},
     "output_type": "execute_result"
    }
   ],
   "source": [
    "# Average\n",
    "df[[\"Success\",\"Fail\",\"No\",\"TotalCommits\",\"% SUCCESS\"]].mean()"
   ]
  },
  {
   "cell_type": "code",
   "execution_count": 7,
   "metadata": {},
   "outputs": [
    {
     "data": {
      "text/plain": [
       "1791.0"
      ]
     },
     "execution_count": 7,
     "metadata": {},
     "output_type": "execute_result"
    }
   ],
   "source": [
    "q1 = df['TotalCommits'].quantile(0.25)\n",
    "q1"
   ]
  },
  {
   "cell_type": "code",
   "execution_count": 8,
   "metadata": {},
   "outputs": [
    {
     "data": {
      "text/plain": [
       "3693.0"
      ]
     },
     "execution_count": 8,
     "metadata": {},
     "output_type": "execute_result"
    }
   ],
   "source": [
    "q3 = df['TotalCommits'].quantile(0.75)\n",
    "q3"
   ]
  },
  {
   "cell_type": "markdown",
   "metadata": {},
   "source": [
    "### Short projects"
   ]
  },
  {
   "cell_type": "code",
   "execution_count": 9,
   "metadata": {},
   "outputs": [
    {
     "data": {
      "text/plain": [
       "count     9.000000\n",
       "mean     36.174444\n",
       "std      26.634741\n",
       "min       0.000000\n",
       "25%      28.780000\n",
       "50%      38.050000\n",
       "75%      39.880000\n",
       "max      87.360000\n",
       "Name: % SUCCESS, dtype: float64"
      ]
     },
     "execution_count": 9,
     "metadata": {},
     "output_type": "execute_result"
    }
   ],
   "source": [
    "# Short proyects (< 1791 commits)\n",
    "short_df = df[ df['TotalCommits']< q1 ]\n",
    "short_df['% SUCCESS'].describe()"
   ]
  },
  {
   "cell_type": "code",
   "execution_count": 14,
   "metadata": {},
   "outputs": [
    {
     "data": {
      "text/plain": [
       "Buildable       11168\n",
       "Success          3569\n",
       "Fail             9588\n",
       "No                  0\n",
       "TotalCommits    13157\n",
       "dtype: int64"
      ]
     },
     "execution_count": 14,
     "metadata": {},
     "output_type": "execute_result"
    }
   ],
   "source": [
    "# Sum of each field\n",
    "short_df[[\"Buildable\",\"Success\",\"Fail\",\"No\",\"TotalCommits\"]].sum()"
   ]
  },
  {
   "cell_type": "markdown",
   "metadata": {},
   "source": [
    "### Medium projects"
   ]
  },
  {
   "cell_type": "code",
   "execution_count": 10,
   "metadata": {},
   "outputs": [
    {
     "data": {
      "text/plain": [
       "count    18.000000\n",
       "mean     43.555556\n",
       "std      30.770324\n",
       "min       0.000000\n",
       "25%      14.517500\n",
       "50%      50.020000\n",
       "75%      60.842500\n",
       "max      89.380000\n",
       "Name: % SUCCESS, dtype: float64"
      ]
     },
     "execution_count": 10,
     "metadata": {},
     "output_type": "execute_result"
    }
   ],
   "source": [
    "# Medium proyects (> 1791 commits & < 3693)\n",
    "medium_df = df.query('TotalCommits >= %d and TotalCommits < %d'%(q1,q3))\n",
    "medium_df['% SUCCESS'].describe()"
   ]
  },
  {
   "cell_type": "code",
   "execution_count": 11,
   "metadata": {},
   "outputs": [
    {
     "data": {
      "text/plain": [
       "Buildable       43507\n",
       "Success         20267\n",
       "Fail            24641\n",
       "No                  0\n",
       "TotalCommits    44908\n",
       "dtype: int64"
      ]
     },
     "execution_count": 11,
     "metadata": {},
     "output_type": "execute_result"
    }
   ],
   "source": [
    "# Sum of each field\n",
    "medium_df[[\"Buildable\",\"Success\",\"Fail\",\"No\",\"TotalCommits\"]].sum()"
   ]
  },
  {
   "cell_type": "markdown",
   "metadata": {},
   "source": [
    "### Large projects"
   ]
  },
  {
   "cell_type": "code",
   "execution_count": 12,
   "metadata": {},
   "outputs": [
    {
     "data": {
      "text/plain": [
       "count    10.000000\n",
       "mean     48.291000\n",
       "std      32.826117\n",
       "min       0.000000\n",
       "25%      23.120000\n",
       "50%      50.295000\n",
       "75%      78.895000\n",
       "max      92.460000\n",
       "Name: % SUCCESS, dtype: float64"
      ]
     },
     "execution_count": 12,
     "metadata": {},
     "output_type": "execute_result"
    }
   ],
   "source": [
    "# Large proyects (> 3693)\n",
    "large_df = df[ df['TotalCommits'] >= q3 ]\n",
    "large_df['% SUCCESS'].describe()"
   ]
  },
  {
   "cell_type": "code",
   "execution_count": 13,
   "metadata": {},
   "outputs": [
    {
     "data": {
      "text/plain": [
       "Buildable       55919\n",
       "Success         28744\n",
       "Fail            28303\n",
       "No                  0\n",
       "TotalCommits    57047\n",
       "dtype: int64"
      ]
     },
     "execution_count": 13,
     "metadata": {},
     "output_type": "execute_result"
    }
   ],
   "source": [
    "large_df[[\"Buildable\",\"Success\",\"Fail\",\"No\",\"TotalCommits\"]].sum()"
   ]
  },
  {
   "cell_type": "markdown",
   "metadata": {},
   "source": [
    "## Check number of builds of each Build System"
   ]
  },
  {
   "cell_type": "code",
   "execution_count": 11,
   "metadata": {},
   "outputs": [],
   "source": [
    "projects = [f for f in listdir(\"/home/results/GitHub/\")]\n",
    "build_systems = []\n",
    "for project in projects:\n",
    "    path = join(\"/home/results/GitHub/\", project)\n",
    "    build_path = join(path, \"experiment_1/build_files/\")\n",
    "    for build_file in listdir(build_path):\n",
    "        with open(join(build_path, build_file)) as f:\n",
    "            bs = json.load(f)\n",
    "            build_systems.append((bs['build_system']))"
   ]
  },
  {
   "cell_type": "code",
   "execution_count": 12,
   "metadata": {},
   "outputs": [
    {
     "data": {
      "text/plain": [
       "Counter({'Maven': 83951, 'Gradle': 11416, 'NOT_FOUND': 4518, 'Ant': 15227})"
      ]
     },
     "execution_count": 12,
     "metadata": {},
     "output_type": "execute_result"
    }
   ],
   "source": [
    "counter = Counter(build_systems)\n",
    "counter"
   ]
  },
  {
   "cell_type": "code",
   "execution_count": 13,
   "metadata": {},
   "outputs": [
    {
     "name": "stdout",
     "output_type": "stream",
     "text": [
      "Maven: 72.93%\n",
      "Gradle: 9.92%\n",
      "Ant: 13.23%\n"
     ]
    }
   ],
   "source": [
    "total_commits = df['TotalCommits'].sum()\n",
    "print(\"Maven: {:.2f}%\".format(counter['Maven']*100/total_commits))\n",
    "print(\"Gradle: {:.2f}%\".format(counter['Gradle']*100/total_commits))\n",
    "print(\"Ant: {:.2f}%\".format(counter['Ant']*100/total_commits))"
   ]
  }
 ],
 "metadata": {
  "kernelspec": {
   "display_name": "Python 3",
   "language": "python",
   "name": "python3"
  },
  "language_info": {
   "codemirror_mode": {
    "name": "ipython",
    "version": 3
   },
   "file_extension": ".py",
   "mimetype": "text/x-python",
   "name": "python",
   "nbconvert_exporter": "python",
   "pygments_lexer": "ipython3",
   "version": "3.7.3"
  }
 },
 "nbformat": 4,
 "nbformat_minor": 2
}
