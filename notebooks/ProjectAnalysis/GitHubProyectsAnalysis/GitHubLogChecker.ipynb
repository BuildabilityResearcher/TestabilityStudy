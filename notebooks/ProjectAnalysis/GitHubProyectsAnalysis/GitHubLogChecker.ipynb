{
 "cells": [
  {
   "cell_type": "markdown",
   "metadata": {},
   "source": [
    "# Step 3.2: GitHub Log Checker"
   ]
  },
  {
   "cell_type": "code",
   "execution_count": 1,
   "metadata": {},
   "outputs": [],
   "source": [
    "import pandas as pd \n",
    "import os\n",
    "from LogAnalyzerGitHub import LogAnalyzerGitHub\n",
    "from threading import Thread, Event\n",
    "import time\n",
    "import json\n",
    "import concurrent.futures\n",
    "import csv\n",
    "import re\n",
    "from collections import Counter\n",
    "from os import listdir\n",
    "\n",
    "results_path=\"/home/results/GitHub/\""
   ]
  },
  {
   "cell_type": "code",
   "execution_count": 2,
   "metadata": {},
   "outputs": [],
   "source": [
    "def checkGitHubProject(project_name):\n",
    "    la = LogAnalyzerGitHub(project_name, root=results_path)\n",
    "    la.analyze()"
   ]
  },
  {
   "cell_type": "code",
   "execution_count": 3,
   "metadata": {},
   "outputs": [
    {
     "name": "stdout",
     "output_type": "stream",
     "text": [
      "> Project thymeleaf analyzed\n",
      "> Project Jest analyzed\n",
      "> Project fastjson analyzed\n",
      "> Project commons-lang analyzed\n",
      "> Project pig analyzed\n",
      "> Project jsprit analyzed\n",
      "> Project spring-security-oauth analyzed\n",
      "> Project json-schema-validator analyzed\n",
      "> Project java-driver analyzed\n",
      "> Project assertj-core analyzed\n",
      "> Project spring-data-jpa analyzed\n",
      "> Project java-client analyzed\n",
      "> Project mina analyzed\n",
      "> Project kairosdb analyzed\n",
      "> Project powermock analyzed\n",
      "> Project wiremock analyzed\n",
      "> Project Hystrix analyzed\n",
      "> Project junit4 analyzed\n",
      "> Project Twitter4J analyzed\n",
      "> Project quickstart analyzed\n",
      "> Project jackson-databind analyzed\n",
      "> Project connectbot analyzed\n",
      "> Project aws-sdk-java analyzed\n",
      "> Project javaparser analyzed\n",
      "> Project elasticsearch-hadoop analyzed\n",
      "> Project swagger-core analyzed\n",
      "> Project httpcomponents-client analyzed\n",
      "> Project jacoco analyzed\n",
      "> Project mockito analyzed\n",
      "> Project zxing analyzed\n",
      "> Project log4j analyzed\n",
      "> Project opengrok analyzed\n",
      "> Project jgit analyzed\n",
      "> Project docker-java analyzed\n",
      "> Project bookkeeper analyzed\n",
      "> Project incubator-pinot analyzed\n",
      "> Project nifi analyzed\n"
     ]
    }
   ],
   "source": [
    "projects = [f for f in listdir(\"/home/results/GitHub/\")]\n",
    "future_results = []\n",
    "with concurrent.futures.ThreadPoolExecutor() as executor:\n",
    "    for project_name in projects:\n",
    "        executor.submit(checkGitHubProject, project_name)"
   ]
  }
 ],
 "metadata": {
  "kernelspec": {
   "display_name": "Python 3",
   "language": "python",
   "name": "python3"
  },
  "language_info": {
   "codemirror_mode": {
    "name": "ipython",
    "version": 3
   },
   "file_extension": ".py",
   "mimetype": "text/x-python",
   "name": "python",
   "nbconvert_exporter": "python",
   "pygments_lexer": "ipython3",
   "version": "3.9.5"
  }
 },
 "nbformat": 4,
 "nbformat_minor": 2
}
