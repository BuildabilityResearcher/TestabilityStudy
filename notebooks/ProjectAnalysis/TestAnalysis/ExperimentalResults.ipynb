{
 "cells": [
  {
   "cell_type": "code",
   "execution_count": 1,
   "metadata": {},
   "outputs": [],
   "source": [
    "import sys\n",
    "import pandas as pd\n",
    "import re\n",
    "import numpy as np\n",
    "import matplotlib.pyplot as plt\n",
    "import math\n",
    "from scipy import stats\n",
    "root=\"/home/jovyan/work\"\n",
    "results_path=root+\"/results/\"\n",
    "procesed_results_path=root+\"/notebooks/ProjectAnalysis/TestAnalysis/results/\""
   ]
  },
  {
   "cell_type": "markdown",
   "metadata": {},
   "source": [
    "# ExperimentalResults\n"
   ]
  },
  {
   "cell_type": "markdown",
   "metadata": {},
   "source": [
    "## Load data"
   ]
  },
  {
   "cell_type": "code",
   "execution_count": 2,
   "metadata": {},
   "outputs": [],
   "source": [
    "apache_projects = pd.read_csv(results_path+'ApacheResults.csv') \n",
    "github_projects = pd.read_csv(results_path+'GitHubResults.csv') \n",
    "many4j_projects = pd.read_csv(results_path+'Many4JResults.csv') \n",
    "all_projects    = pd.read_csv(results_path+'AllResults.csv') "
   ]
  },
  {
   "cell_type": "markdown",
   "metadata": {},
   "source": [
    "## Change days to years"
   ]
  },
  {
   "cell_type": "code",
   "execution_count": 3,
   "metadata": {},
   "outputs": [],
   "source": [
    "apache_projects['Age'] = apache_projects['Age'].map(lambda days: days/365.) \n",
    "github_projects['Age'] = github_projects['Age'].map(lambda days: days/365.) \n",
    "many4j_projects['Age'] = many4j_projects['Age'].map(lambda days: days/365.) \n",
    "all_projects['Age'] = all_projects['Age'].map(lambda days: days/365.) "
   ]
  },
  {
   "cell_type": "markdown",
   "metadata": {},
   "source": [
    "## 1.1 Absolute results for All Projects"
   ]
  },
  {
   "cell_type": "code",
   "execution_count": 4,
   "metadata": {},
   "outputs": [],
   "source": [
    "def describeAbsoluteResults(dataset, name, data):\n",
    "    testable_percent = round(100*(data['Testable commits'].sum() / data['Test buildable commits'].sum()), 2)\n",
    "    return [\n",
    "        dataset,\n",
    "        len(data.index),\n",
    "        data['Age'].sum(),\n",
    "        data['LoC'].sum(),\n",
    "        data['Total Commits'].sum(),\n",
    "        data['Source buildable commits'].sum(),\n",
    "        data['Test buildable commits'].sum(),\n",
    "        data['Testable commits'].sum(),\n",
    "    ]    "
   ]
  },
  {
   "cell_type": "code",
   "execution_count": 5,
   "metadata": {},
   "outputs": [
    {
     "data": {
      "text/html": [
       "<div>\n",
       "<style scoped>\n",
       "    .dataframe tbody tr th:only-of-type {\n",
       "        vertical-align: middle;\n",
       "    }\n",
       "\n",
       "    .dataframe tbody tr th {\n",
       "        vertical-align: top;\n",
       "    }\n",
       "\n",
       "    .dataframe thead th {\n",
       "        text-align: right;\n",
       "    }\n",
       "</style>\n",
       "<table border=\"1\" class=\"dataframe\">\n",
       "  <thead>\n",
       "    <tr style=\"text-align: right;\">\n",
       "      <th>Dataset</th>\n",
       "      <th>Apache</th>\n",
       "      <th>GitHub</th>\n",
       "      <th>Many4J</th>\n",
       "      <th>All</th>\n",
       "    </tr>\n",
       "  </thead>\n",
       "  <tbody>\n",
       "    <tr>\n",
       "      <th># projects</th>\n",
       "      <td>15.00</td>\n",
       "      <td>12.00</td>\n",
       "      <td>84.00</td>\n",
       "      <td>111.00</td>\n",
       "    </tr>\n",
       "    <tr>\n",
       "      <th>Age</th>\n",
       "      <td>211.88</td>\n",
       "      <td>134.58</td>\n",
       "      <td>774.19</td>\n",
       "      <td>1120.65</td>\n",
       "    </tr>\n",
       "    <tr>\n",
       "      <th>LoC</th>\n",
       "      <td>977097.00</td>\n",
       "      <td>1367392.00</td>\n",
       "      <td>12278459.00</td>\n",
       "      <td>14622948.00</td>\n",
       "    </tr>\n",
       "    <tr>\n",
       "      <th># commits</th>\n",
       "      <td>66056.00</td>\n",
       "      <td>51099.00</td>\n",
       "      <td>599805.00</td>\n",
       "      <td>716960.00</td>\n",
       "    </tr>\n",
       "    <tr>\n",
       "      <th>Source buildable commits</th>\n",
       "      <td>16560.00</td>\n",
       "      <td>36548.00</td>\n",
       "      <td>98317.00</td>\n",
       "      <td>151425.00</td>\n",
       "    </tr>\n",
       "    <tr>\n",
       "      <th>Test buildable commit</th>\n",
       "      <td>12349.00</td>\n",
       "      <td>30716.00</td>\n",
       "      <td>84742.00</td>\n",
       "      <td>127807.00</td>\n",
       "    </tr>\n",
       "    <tr>\n",
       "      <th>Testable commits</th>\n",
       "      <td>4843.00</td>\n",
       "      <td>14411.00</td>\n",
       "      <td>38658.00</td>\n",
       "      <td>57912.00</td>\n",
       "    </tr>\n",
       "  </tbody>\n",
       "</table>\n",
       "</div>"
      ],
      "text/plain": [
       "Dataset                      Apache      GitHub       Many4J          All\n",
       "# projects                    15.00       12.00        84.00       111.00\n",
       "Age                          211.88      134.58       774.19      1120.65\n",
       "LoC                       977097.00  1367392.00  12278459.00  14622948.00\n",
       "# commits                  66056.00    51099.00    599805.00    716960.00\n",
       "Source buildable commits   16560.00    36548.00     98317.00    151425.00\n",
       "Test buildable commit      12349.00    30716.00     84742.00    127807.00\n",
       "Testable commits            4843.00    14411.00     38658.00     57912.00"
      ]
     },
     "execution_count": 5,
     "metadata": {},
     "output_type": "execute_result"
    }
   ],
   "source": [
    "apache_absolute = describeAbsoluteResults(\"Apache\", \"All\", apache_projects)\n",
    "github_absolute = describeAbsoluteResults(\"GitHub\", \"All\", github_projects)\n",
    "many4j_absolute = describeAbsoluteResults(\"Many4J\", \"All\", many4j_projects)\n",
    "all_absolute    = describeAbsoluteResults(\"All\", \"All\", all_projects)\n",
    "\n",
    "all_absolute_df = pd.DataFrame(\n",
    "    [ apache_absolute, github_absolute, many4j_absolute, all_absolute ]\n",
    ", columns = [\n",
    "        \"Dataset\",\n",
    "        \"# projects\",\n",
    "        \"Age\",\n",
    "        \"LoC\",\n",
    "        \"# commits\",\n",
    "        \"Source buildable commits\",\n",
    "        \"Test buildable commit\",\n",
    "        \"Testable commits\"\n",
    "]).round(decimals=2).set_index('Dataset')\n",
    "all_absolute_df.T#.astype(int)"
   ]
  },
  {
   "cell_type": "markdown",
   "metadata": {},
   "source": [
    "## 1.2 Mean and median results for All Projects"
   ]
  },
  {
   "cell_type": "code",
   "execution_count": 6,
   "metadata": {},
   "outputs": [],
   "source": [
    "alpha = 1e-3\n",
    "def isNormalDistribution(name, data):\n",
    "    k2, p = stats.normaltest(list(data.values))\n",
    "    \n",
    "    if p < alpha: \n",
    "        print(\"{:s} is NOT a normal distribution: p = {:g}\".format(name, p))\n",
    "    else: \n",
    "        print(\"{:s} is a normal distribution: p = {:g}\".format(name, p))"
   ]
  },
  {
   "cell_type": "code",
   "execution_count": 7,
   "metadata": {},
   "outputs": [],
   "source": [
    "def checkDistribution(dataset, data):\n",
    "    isNormalDistribution(dataset+\"-Age\",data['Age'])\n",
    "    isNormalDistribution(dataset+\"-LoC\",data['LoC'])\n",
    "    isNormalDistribution(dataset+\"-Total Commits\",data['Total Commits'])\n",
    "    isNormalDistribution(dataset+\"-Source buildable\",data['Source buildable commits'])\n",
    "    isNormalDistribution(dataset+\"-Test buildable\",data['Test buildable commits'])\n",
    "    isNormalDistribution(dataset+\"-Testable\",data['Testable commits'])"
   ]
  },
  {
   "cell_type": "code",
   "execution_count": 8,
   "metadata": {},
   "outputs": [],
   "source": [
    "def describeResultsWithMeans(dataset, name, data):\n",
    "    return [\n",
    "        'Mean',\n",
    "        dataset,\n",
    "        data['Age'].mean(),\n",
    "        data['LoC'].mean(),\n",
    "        data['Total Commits'].mean(),\n",
    "        data['Source buildable commits'].mean(),\n",
    "        data['Test buildable commits'].mean(),\n",
    "        data['Testable commits'].mean(),\n",
    "    ]"
   ]
  },
  {
   "cell_type": "code",
   "execution_count": 9,
   "metadata": {},
   "outputs": [],
   "source": [
    "def describeResultsWithMedian(dataset, name, data):\n",
    "    return [\n",
    "        'Median',\n",
    "        dataset,\n",
    "        data['Age'].median(),\n",
    "        data['LoC'].median(),\n",
    "        data['Total Commits'].median(),\n",
    "        data['Source buildable commits'].median(),\n",
    "        data['Test buildable commits'].median(),\n",
    "        data['Testable commits'].median(),\n",
    "    ]"
   ]
  },
  {
   "cell_type": "code",
   "execution_count": 10,
   "metadata": {},
   "outputs": [],
   "source": [
    "def describeResultsWithStd(dataset, name, data):\n",
    "    return [\n",
    "        'Std',\n",
    "        dataset,\n",
    "        data['Age'].std(),\n",
    "        data['LoC'].std(),\n",
    "        data['Total Commits'].std(),\n",
    "        data['Source buildable commits'].std(),\n",
    "        data['Test buildable commits'].std(),\n",
    "        data['Testable commits'].std(),\n",
    "    ]"
   ]
  },
  {
   "cell_type": "code",
   "execution_count": 11,
   "metadata": {},
   "outputs": [
    {
     "name": "stdout",
     "output_type": "stream",
     "text": [
      "Apache-Age is a normal distribution: p = 0.523326\n",
      "Apache-LoC is NOT a normal distribution: p = 4.40847e-08\n",
      "Apache-Total Commits is a normal distribution: p = 0.0571384\n",
      "Apache-Source buildable is a normal distribution: p = 0.0401155\n",
      "Apache-Test buildable is a normal distribution: p = 0.110863\n",
      "Apache-Testable is NOT a normal distribution: p = 2.76283e-08\n",
      "GitHub-Age is a normal distribution: p = 0.588079\n",
      "GitHub-LoC is NOT a normal distribution: p = 1.30146e-05\n",
      "GitHub-Total Commits is a normal distribution: p = 0.329492\n",
      "GitHub-Source buildable is a normal distribution: p = 0.385474\n",
      "GitHub-Test buildable is a normal distribution: p = 0.231392\n",
      "GitHub-Testable is a normal distribution: p = 0.0679576\n",
      "Many4J-Age is a normal distribution: p = 0.340418\n",
      "Many4J-LoC is a normal distribution: p = nan\n",
      "Many4J-Total Commits is NOT a normal distribution: p = 6.03352e-19\n",
      "Many4J-Source buildable is NOT a normal distribution: p = 4.19807e-18\n",
      "Many4J-Test buildable is NOT a normal distribution: p = 1.68358e-18\n",
      "Many4J-Testable is NOT a normal distribution: p = 3.99272e-31\n"
     ]
    },
    {
     "name": "stderr",
     "output_type": "stream",
     "text": [
      "/opt/conda/lib/python3.9/site-packages/scipy/stats/stats.py:1541: UserWarning: kurtosistest only valid for n>=20 ... continuing anyway, n=15\n",
      "  warnings.warn(\"kurtosistest only valid for n>=20 ... continuing \"\n",
      "/opt/conda/lib/python3.9/site-packages/scipy/stats/stats.py:1541: UserWarning: kurtosistest only valid for n>=20 ... continuing anyway, n=12\n",
      "  warnings.warn(\"kurtosistest only valid for n>=20 ... continuing \"\n"
     ]
    }
   ],
   "source": [
    "checkDistribution(\"Apache\",apache_projects)\n",
    "checkDistribution(\"GitHub\",github_projects)\n",
    "checkDistribution(\"Many4J\",many4j_projects)"
   ]
  },
  {
   "cell_type": "code",
   "execution_count": 12,
   "metadata": {},
   "outputs": [
    {
     "data": {
      "text/html": [
       "<div>\n",
       "<style scoped>\n",
       "    .dataframe tbody tr th:only-of-type {\n",
       "        vertical-align: middle;\n",
       "    }\n",
       "\n",
       "    .dataframe tbody tr th {\n",
       "        vertical-align: top;\n",
       "    }\n",
       "\n",
       "    .dataframe thead tr th {\n",
       "        text-align: left;\n",
       "    }\n",
       "</style>\n",
       "<table border=\"1\" class=\"dataframe\">\n",
       "  <thead>\n",
       "    <tr>\n",
       "      <th>Dataset</th>\n",
       "      <th colspan=\"2\" halign=\"left\">Apache</th>\n",
       "      <th colspan=\"2\" halign=\"left\">GitHub</th>\n",
       "      <th colspan=\"2\" halign=\"left\">Many4J</th>\n",
       "      <th colspan=\"2\" halign=\"left\">All</th>\n",
       "    </tr>\n",
       "    <tr>\n",
       "      <th></th>\n",
       "      <th>Mean</th>\n",
       "      <th>Median</th>\n",
       "      <th>Mean</th>\n",
       "      <th>Median</th>\n",
       "      <th>Mean</th>\n",
       "      <th>Median</th>\n",
       "      <th>Mean</th>\n",
       "      <th>Std</th>\n",
       "    </tr>\n",
       "  </thead>\n",
       "  <tbody>\n",
       "    <tr>\n",
       "      <th>Age</th>\n",
       "      <td>14.13</td>\n",
       "      <td>14.57</td>\n",
       "      <td>11.22</td>\n",
       "      <td>10.98</td>\n",
       "      <td>9.22</td>\n",
       "      <td>9.51</td>\n",
       "      <td>10.10</td>\n",
       "      <td>4.21</td>\n",
       "    </tr>\n",
       "    <tr>\n",
       "      <th>LoC</th>\n",
       "      <td>65139.80</td>\n",
       "      <td>35977.00</td>\n",
       "      <td>113949.33</td>\n",
       "      <td>87504.00</td>\n",
       "      <td>147933.24</td>\n",
       "      <td>27703.00</td>\n",
       "      <td>132935.89</td>\n",
       "      <td>236024.28</td>\n",
       "    </tr>\n",
       "    <tr>\n",
       "      <th>Total commits</th>\n",
       "      <td>4403.73</td>\n",
       "      <td>3971.00</td>\n",
       "      <td>4258.25</td>\n",
       "      <td>3294.00</td>\n",
       "      <td>7140.54</td>\n",
       "      <td>2396.50</td>\n",
       "      <td>6459.10</td>\n",
       "      <td>10245.52</td>\n",
       "    </tr>\n",
       "    <tr>\n",
       "      <th>Source buildable commits</th>\n",
       "      <td>1104.00</td>\n",
       "      <td>913.00</td>\n",
       "      <td>3045.67</td>\n",
       "      <td>2709.50</td>\n",
       "      <td>1170.44</td>\n",
       "      <td>581.50</td>\n",
       "      <td>1364.19</td>\n",
       "      <td>1807.05</td>\n",
       "    </tr>\n",
       "    <tr>\n",
       "      <th>Test buildable commits</th>\n",
       "      <td>823.27</td>\n",
       "      <td>464.00</td>\n",
       "      <td>2559.67</td>\n",
       "      <td>2135.00</td>\n",
       "      <td>1008.83</td>\n",
       "      <td>366.50</td>\n",
       "      <td>1151.41</td>\n",
       "      <td>1764.68</td>\n",
       "    </tr>\n",
       "    <tr>\n",
       "      <th>Testable commits</th>\n",
       "      <td>322.87</td>\n",
       "      <td>139.00</td>\n",
       "      <td>1200.92</td>\n",
       "      <td>554.50</td>\n",
       "      <td>460.21</td>\n",
       "      <td>90.00</td>\n",
       "      <td>521.73</td>\n",
       "      <td>1161.36</td>\n",
       "    </tr>\n",
       "  </tbody>\n",
       "</table>\n",
       "</div>"
      ],
      "text/plain": [
       "Dataset                     Apache               GitHub               Many4J  \\\n",
       "                              Mean    Median       Mean    Median       Mean   \n",
       "Age                          14.13     14.57      11.22     10.98       9.22   \n",
       "LoC                       65139.80  35977.00  113949.33  87504.00  147933.24   \n",
       "Total commits              4403.73   3971.00    4258.25   3294.00    7140.54   \n",
       "Source buildable commits   1104.00    913.00    3045.67   2709.50    1170.44   \n",
       "Test buildable commits      823.27    464.00    2559.67   2135.00    1008.83   \n",
       "Testable commits            322.87    139.00    1200.92    554.50     460.21   \n",
       "\n",
       "Dataset                                   All             \n",
       "                            Median       Mean        Std  \n",
       "Age                           9.51      10.10       4.21  \n",
       "LoC                       27703.00  132935.89  236024.28  \n",
       "Total commits              2396.50    6459.10   10245.52  \n",
       "Source buildable commits    581.50    1364.19    1807.05  \n",
       "Test buildable commits      366.50    1151.41    1764.68  \n",
       "Testable commits             90.00     521.73    1161.36  "
      ]
     },
     "execution_count": 12,
     "metadata": {},
     "output_type": "execute_result"
    }
   ],
   "source": [
    "all_means_df = pd.DataFrame(\n",
    "    [ \n",
    "        describeResultsWithMeans(\"Apache\", \"All\", apache_projects), \n",
    "        describeResultsWithMedian(\"Apache\", \"All\", apache_projects), \n",
    "        describeResultsWithMeans(\"GitHub\", \"All\", github_projects),\n",
    "        describeResultsWithMedian(\"GitHub\", \"All\", github_projects), \n",
    "        describeResultsWithMeans(\"Many4J\", \"All\", many4j_projects),\n",
    "        describeResultsWithMedian(\"Many4J\", \"All\", many4j_projects),\n",
    "        describeResultsWithMeans(\"All\", \"All\", all_projects),\n",
    "        describeResultsWithStd(\"All\", \"All\", all_projects)\n",
    "    ]\n",
    ", columns = [\n",
    "        \"\",\n",
    "        \"Dataset\",\n",
    "        \"Age\",\n",
    "        \"LoC\",\n",
    "        \"Total commits\",\n",
    "        \"Source buildable commits\",\n",
    "        \"Test buildable commits\",\n",
    "        \"Testable commits\",\n",
    "\n",
    "]).set_index(['Dataset', '']).round(decimals=2)#.astype(int)\n",
    "all_means_df.T"
   ]
  },
  {
   "cell_type": "markdown",
   "metadata": {},
   "source": [
    "## 1.3 Relative results for All Projects"
   ]
  },
  {
   "cell_type": "code",
   "execution_count": 13,
   "metadata": {},
   "outputs": [],
   "source": [
    "def describeRelativeResults(dataset, name, data):\n",
    "    return [\n",
    "        'Mean',\n",
    "        dataset,\n",
    "        100*data['Source buildability'].mean(),\n",
    "        100*data['Test buildability'].mean(),\n",
    "        100*data['Testability_C'].mean(),\n",
    "        100*data['Testability_B'].mean(),\n",
    "        100*data['Testability_T'].mean(),\n",
    "    ]"
   ]
  },
  {
   "cell_type": "code",
   "execution_count": 14,
   "metadata": {},
   "outputs": [],
   "source": [
    "def describeRelativeResultsStd(dataset, name, data):\n",
    "    return [\n",
    "        'Std',\n",
    "        dataset,\n",
    "        100*data['Source buildability'].std(),\n",
    "        100*data['Test buildability'].std(),\n",
    "        100*data['Testability_C'].std(),\n",
    "        100*data['Testability_B'].std(),\n",
    "        100*data['Testability_T'].std(),\n",
    "    ]"
   ]
  },
  {
   "cell_type": "code",
   "execution_count": 15,
   "metadata": {},
   "outputs": [],
   "source": [
    "def describeRelativeResultsWithMedian(dataset, name, data):\n",
    "     return [\n",
    "        'Median',\n",
    "        dataset,\n",
    "        100*data['Source buildability'].median(),\n",
    "        100*data['Test buildability'].median(),\n",
    "        100*data['Testability_C'].median(),\n",
    "        100*data['Testability_B'].median(),\n",
    "        100*data['Testability_T'].median(),\n",
    "    ]"
   ]
  },
  {
   "cell_type": "code",
   "execution_count": 16,
   "metadata": {},
   "outputs": [],
   "source": [
    "def checkDistributionRelative(dataset, data):\n",
    "    isNormalDistribution(dataset+\"-SourceBuildability\",data['Source buildability'])\n",
    "    isNormalDistribution(dataset+\"-TestBuildability\",data['Test buildability'])\n",
    "    isNormalDistribution(dataset+\"-Total Commits\",data['Total Commits'])\n",
    "    isNormalDistribution(dataset+\"-Testability_C\",data['Testability_C'])\n",
    "    isNormalDistribution(dataset+\"-Testability_B\",data['Testability_B'])\n",
    "    isNormalDistribution(dataset+\"-Testability_T\",data['Testability_C'])"
   ]
  },
  {
   "cell_type": "code",
   "execution_count": 17,
   "metadata": {},
   "outputs": [
    {
     "name": "stdout",
     "output_type": "stream",
     "text": [
      "Apache-SourceBuildability is a normal distribution: p = 0.0605774\n",
      "Apache-TestBuildability is a normal distribution: p = 0.107879\n",
      "Apache-Total Commits is a normal distribution: p = 0.0571384\n",
      "Apache-Testability_C is a normal distribution: p = 0.0257866\n",
      "Apache-Testability_B is a normal distribution: p = 0.230826\n",
      "Apache-Testability_T is a normal distribution: p = 0.0257866\n",
      "GitHub-SourceBuildability is a normal distribution: p = 0.0526686\n",
      "GitHub-TestBuildability is NOT a normal distribution: p = 3.14822e-05\n",
      "GitHub-Total Commits is a normal distribution: p = 0.329492\n",
      "GitHub-Testability_C is a normal distribution: p = 0.172613\n",
      "GitHub-Testability_B is a normal distribution: p = 0.0673238\n",
      "GitHub-Testability_T is a normal distribution: p = 0.172613\n",
      "Many4J-SourceBuildability is NOT a normal distribution: p = 0.000415627\n",
      "Many4J-TestBuildability is NOT a normal distribution: p = 9.38751e-09\n",
      "Many4J-Total Commits is NOT a normal distribution: p = 6.03352e-19\n",
      "Many4J-Testability_C is NOT a normal distribution: p = 5.6961e-06\n",
      "Many4J-Testability_B is NOT a normal distribution: p = 4.47247e-15\n",
      "Many4J-Testability_T is NOT a normal distribution: p = 5.6961e-06\n"
     ]
    },
    {
     "name": "stderr",
     "output_type": "stream",
     "text": [
      "/opt/conda/lib/python3.9/site-packages/scipy/stats/stats.py:1541: UserWarning: kurtosistest only valid for n>=20 ... continuing anyway, n=15\n",
      "  warnings.warn(\"kurtosistest only valid for n>=20 ... continuing \"\n",
      "/opt/conda/lib/python3.9/site-packages/scipy/stats/stats.py:1541: UserWarning: kurtosistest only valid for n>=20 ... continuing anyway, n=12\n",
      "  warnings.warn(\"kurtosistest only valid for n>=20 ... continuing \"\n"
     ]
    }
   ],
   "source": [
    "checkDistributionRelative(\"Apache\",apache_projects)\n",
    "checkDistributionRelative(\"GitHub\",github_projects)\n",
    "checkDistributionRelative(\"Many4J\",many4j_projects)"
   ]
  },
  {
   "cell_type": "code",
   "execution_count": 18,
   "metadata": {},
   "outputs": [
    {
     "data": {
      "text/html": [
       "<div>\n",
       "<style scoped>\n",
       "    .dataframe tbody tr th:only-of-type {\n",
       "        vertical-align: middle;\n",
       "    }\n",
       "\n",
       "    .dataframe tbody tr th {\n",
       "        vertical-align: top;\n",
       "    }\n",
       "\n",
       "    .dataframe thead tr th {\n",
       "        text-align: left;\n",
       "    }\n",
       "</style>\n",
       "<table border=\"1\" class=\"dataframe\">\n",
       "  <thead>\n",
       "    <tr>\n",
       "      <th>Dataset</th>\n",
       "      <th colspan=\"2\" halign=\"left\">Apache</th>\n",
       "      <th colspan=\"2\" halign=\"left\">GitHub</th>\n",
       "      <th colspan=\"2\" halign=\"left\">Many4J</th>\n",
       "      <th colspan=\"2\" halign=\"left\">All</th>\n",
       "    </tr>\n",
       "    <tr>\n",
       "      <th></th>\n",
       "      <th>Mean</th>\n",
       "      <th>Median</th>\n",
       "      <th>Mean</th>\n",
       "      <th>Median</th>\n",
       "      <th>Mean</th>\n",
       "      <th>Median</th>\n",
       "      <th>Mean</th>\n",
       "      <th>Median</th>\n",
       "    </tr>\n",
       "  </thead>\n",
       "  <tbody>\n",
       "    <tr>\n",
       "      <th>Source buildability</th>\n",
       "      <td>29.65</td>\n",
       "      <td>25.24</td>\n",
       "      <td>69.35</td>\n",
       "      <td>75.84</td>\n",
       "      <td>36.64</td>\n",
       "      <td>31.35</td>\n",
       "      <td>39.23</td>\n",
       "      <td>36.33</td>\n",
       "    </tr>\n",
       "    <tr>\n",
       "      <th>Test buildability</th>\n",
       "      <td>71.71</td>\n",
       "      <td>82.09</td>\n",
       "      <td>82.44</td>\n",
       "      <td>95.25</td>\n",
       "      <td>65.63</td>\n",
       "      <td>90.85</td>\n",
       "      <td>68.27</td>\n",
       "      <td>89.25</td>\n",
       "    </tr>\n",
       "    <tr>\n",
       "      <th>Testability_C</th>\n",
       "      <td>7.46</td>\n",
       "      <td>5.05</td>\n",
       "      <td>31.54</td>\n",
       "      <td>24.04</td>\n",
       "      <td>17.04</td>\n",
       "      <td>2.76</td>\n",
       "      <td>17.31</td>\n",
       "      <td>5.05</td>\n",
       "    </tr>\n",
       "    <tr>\n",
       "      <th>Testability_B</th>\n",
       "      <td>29.13</td>\n",
       "      <td>19.01</td>\n",
       "      <td>41.23</td>\n",
       "      <td>50.94</td>\n",
       "      <td>34.97</td>\n",
       "      <td>13.91</td>\n",
       "      <td>34.86</td>\n",
       "      <td>17.63</td>\n",
       "    </tr>\n",
       "    <tr>\n",
       "      <th>Testability_T</th>\n",
       "      <td>39.49</td>\n",
       "      <td>31.27</td>\n",
       "      <td>44.86</td>\n",
       "      <td>55.94</td>\n",
       "      <td>40.25</td>\n",
       "      <td>21.17</td>\n",
       "      <td>40.65</td>\n",
       "      <td>27.82</td>\n",
       "    </tr>\n",
       "  </tbody>\n",
       "</table>\n",
       "</div>"
      ],
      "text/plain": [
       "Dataset             Apache        GitHub        Many4J           All       \n",
       "                      Mean Median   Mean Median   Mean Median   Mean Median\n",
       "Source buildability  29.65  25.24  69.35  75.84  36.64  31.35  39.23  36.33\n",
       "Test buildability    71.71  82.09  82.44  95.25  65.63  90.85  68.27  89.25\n",
       "Testability_C         7.46   5.05  31.54  24.04  17.04   2.76  17.31   5.05\n",
       "Testability_B        29.13  19.01  41.23  50.94  34.97  13.91  34.86  17.63\n",
       "Testability_T        39.49  31.27  44.86  55.94  40.25  21.17  40.65  27.82"
      ]
     },
     "execution_count": 18,
     "metadata": {},
     "output_type": "execute_result"
    }
   ],
   "source": [
    "all_relative_df = pd.DataFrame(\n",
    "    [ \n",
    "        describeRelativeResults(\"Apache\", \"All\", apache_projects),\n",
    "        describeRelativeResultsWithMedian(\"Apache\", \"All\", apache_projects),\n",
    "        describeRelativeResults(\"GitHub\", \"All\", github_projects),\n",
    "        describeRelativeResultsWithMedian(\"GitHub\", \"All\", github_projects),\n",
    "        describeRelativeResults(\"Many4J\", \"All\", many4j_projects),\n",
    "        describeRelativeResultsWithMedian(\"Many4J\", \"All\", many4j_projects),\n",
    "        describeRelativeResults(\"All\", \"All\", all_projects),\n",
    "        describeRelativeResultsWithMedian(\"All\", \"All\", all_projects)\n",
    "    ]\n",
    ", columns = [\n",
    "        \"\",\n",
    "        \"Dataset\",\n",
    "        \"Source buildability\",\n",
    "        \"Test buildability\", # of buildable source\n",
    "        \"Testability_C\",\n",
    "        \"Testability_B\",\n",
    "        \"Testability_T\"\n",
    "]).round(decimals=2).set_index(['Dataset', ''])\n",
    "all_relative_df.T"
   ]
  },
  {
   "cell_type": "markdown",
   "metadata": {},
   "source": [
    "## 1.4 Relative results per dataset"
   ]
  },
  {
   "cell_type": "code",
   "execution_count": 19,
   "metadata": {},
   "outputs": [],
   "source": [
    "def viewDistributionOfResults(dataset):\n",
    "    dataset_relative_df = dataset[\n",
    "        ['Source buildability', 'Test buildability', 'Testability_C','Testability_B', 'Testability_C']\n",
    "    ]\n",
    "    return dataset_relative_df.describe().T"
   ]
  },
  {
   "cell_type": "markdown",
   "metadata": {},
   "source": [
    "### Apache"
   ]
  },
  {
   "cell_type": "code",
   "execution_count": 20,
   "metadata": {},
   "outputs": [
    {
     "data": {
      "text/html": [
       "<div>\n",
       "<style scoped>\n",
       "    .dataframe tbody tr th:only-of-type {\n",
       "        vertical-align: middle;\n",
       "    }\n",
       "\n",
       "    .dataframe tbody tr th {\n",
       "        vertical-align: top;\n",
       "    }\n",
       "\n",
       "    .dataframe thead th {\n",
       "        text-align: right;\n",
       "    }\n",
       "</style>\n",
       "<table border=\"1\" class=\"dataframe\">\n",
       "  <thead>\n",
       "    <tr style=\"text-align: right;\">\n",
       "      <th></th>\n",
       "      <th>count</th>\n",
       "      <th>mean</th>\n",
       "      <th>std</th>\n",
       "      <th>min</th>\n",
       "      <th>25%</th>\n",
       "      <th>50%</th>\n",
       "      <th>75%</th>\n",
       "      <th>max</th>\n",
       "    </tr>\n",
       "  </thead>\n",
       "  <tbody>\n",
       "    <tr>\n",
       "      <th>Source buildability</th>\n",
       "      <td>15.0</td>\n",
       "      <td>0.296549</td>\n",
       "      <td>0.181675</td>\n",
       "      <td>0.100473</td>\n",
       "      <td>0.184422</td>\n",
       "      <td>0.252439</td>\n",
       "      <td>0.362434</td>\n",
       "      <td>0.740038</td>\n",
       "    </tr>\n",
       "    <tr>\n",
       "      <th>Test buildability</th>\n",
       "      <td>15.0</td>\n",
       "      <td>0.717056</td>\n",
       "      <td>0.307255</td>\n",
       "      <td>0.000000</td>\n",
       "      <td>0.585821</td>\n",
       "      <td>0.820856</td>\n",
       "      <td>0.968025</td>\n",
       "      <td>1.000000</td>\n",
       "    </tr>\n",
       "    <tr>\n",
       "      <th>Testability_C</th>\n",
       "      <td>15.0</td>\n",
       "      <td>0.074624</td>\n",
       "      <td>0.092991</td>\n",
       "      <td>0.000000</td>\n",
       "      <td>0.002798</td>\n",
       "      <td>0.050512</td>\n",
       "      <td>0.088831</td>\n",
       "      <td>0.302389</td>\n",
       "    </tr>\n",
       "    <tr>\n",
       "      <th>Testability_B</th>\n",
       "      <td>15.0</td>\n",
       "      <td>0.291329</td>\n",
       "      <td>0.300224</td>\n",
       "      <td>0.000000</td>\n",
       "      <td>0.006183</td>\n",
       "      <td>0.190068</td>\n",
       "      <td>0.518237</td>\n",
       "      <td>0.841922</td>\n",
       "    </tr>\n",
       "    <tr>\n",
       "      <th>Testability_C</th>\n",
       "      <td>15.0</td>\n",
       "      <td>0.074624</td>\n",
       "      <td>0.092991</td>\n",
       "      <td>0.000000</td>\n",
       "      <td>0.002798</td>\n",
       "      <td>0.050512</td>\n",
       "      <td>0.088831</td>\n",
       "      <td>0.302389</td>\n",
       "    </tr>\n",
       "  </tbody>\n",
       "</table>\n",
       "</div>"
      ],
      "text/plain": [
       "                     count      mean       std       min       25%       50%  \\\n",
       "Source buildability   15.0  0.296549  0.181675  0.100473  0.184422  0.252439   \n",
       "Test buildability     15.0  0.717056  0.307255  0.000000  0.585821  0.820856   \n",
       "Testability_C         15.0  0.074624  0.092991  0.000000  0.002798  0.050512   \n",
       "Testability_B         15.0  0.291329  0.300224  0.000000  0.006183  0.190068   \n",
       "Testability_C         15.0  0.074624  0.092991  0.000000  0.002798  0.050512   \n",
       "\n",
       "                          75%       max  \n",
       "Source buildability  0.362434  0.740038  \n",
       "Test buildability    0.968025  1.000000  \n",
       "Testability_C        0.088831  0.302389  \n",
       "Testability_B        0.518237  0.841922  \n",
       "Testability_C        0.088831  0.302389  "
      ]
     },
     "execution_count": 20,
     "metadata": {},
     "output_type": "execute_result"
    }
   ],
   "source": [
    "viewDistributionOfResults(apache_projects)"
   ]
  },
  {
   "cell_type": "markdown",
   "metadata": {},
   "source": [
    "### GitHub"
   ]
  },
  {
   "cell_type": "code",
   "execution_count": 21,
   "metadata": {},
   "outputs": [
    {
     "data": {
      "text/html": [
       "<div>\n",
       "<style scoped>\n",
       "    .dataframe tbody tr th:only-of-type {\n",
       "        vertical-align: middle;\n",
       "    }\n",
       "\n",
       "    .dataframe tbody tr th {\n",
       "        vertical-align: top;\n",
       "    }\n",
       "\n",
       "    .dataframe thead th {\n",
       "        text-align: right;\n",
       "    }\n",
       "</style>\n",
       "<table border=\"1\" class=\"dataframe\">\n",
       "  <thead>\n",
       "    <tr style=\"text-align: right;\">\n",
       "      <th></th>\n",
       "      <th>count</th>\n",
       "      <th>mean</th>\n",
       "      <th>std</th>\n",
       "      <th>min</th>\n",
       "      <th>25%</th>\n",
       "      <th>50%</th>\n",
       "      <th>75%</th>\n",
       "      <th>max</th>\n",
       "    </tr>\n",
       "  </thead>\n",
       "  <tbody>\n",
       "    <tr>\n",
       "      <th>Source buildability</th>\n",
       "      <td>12.0</td>\n",
       "      <td>0.693543</td>\n",
       "      <td>0.218531</td>\n",
       "      <td>0.392484</td>\n",
       "      <td>0.478959</td>\n",
       "      <td>0.758437</td>\n",
       "      <td>0.884268</td>\n",
       "      <td>0.942532</td>\n",
       "    </tr>\n",
       "    <tr>\n",
       "      <th>Test buildability</th>\n",
       "      <td>12.0</td>\n",
       "      <td>0.824392</td>\n",
       "      <td>0.288187</td>\n",
       "      <td>0.000645</td>\n",
       "      <td>0.794768</td>\n",
       "      <td>0.952486</td>\n",
       "      <td>0.986447</td>\n",
       "      <td>0.999693</td>\n",
       "    </tr>\n",
       "    <tr>\n",
       "      <th>Testability_C</th>\n",
       "      <td>12.0</td>\n",
       "      <td>0.315387</td>\n",
       "      <td>0.316517</td>\n",
       "      <td>0.000000</td>\n",
       "      <td>0.000000</td>\n",
       "      <td>0.240406</td>\n",
       "      <td>0.625397</td>\n",
       "      <td>0.817625</td>\n",
       "    </tr>\n",
       "    <tr>\n",
       "      <th>Testability_B</th>\n",
       "      <td>12.0</td>\n",
       "      <td>0.412270</td>\n",
       "      <td>0.354459</td>\n",
       "      <td>0.000000</td>\n",
       "      <td>0.000000</td>\n",
       "      <td>0.509382</td>\n",
       "      <td>0.712775</td>\n",
       "      <td>0.889744</td>\n",
       "    </tr>\n",
       "    <tr>\n",
       "      <th>Testability_C</th>\n",
       "      <td>12.0</td>\n",
       "      <td>0.315387</td>\n",
       "      <td>0.316517</td>\n",
       "      <td>0.000000</td>\n",
       "      <td>0.000000</td>\n",
       "      <td>0.240406</td>\n",
       "      <td>0.625397</td>\n",
       "      <td>0.817625</td>\n",
       "    </tr>\n",
       "  </tbody>\n",
       "</table>\n",
       "</div>"
      ],
      "text/plain": [
       "                     count      mean       std       min       25%       50%  \\\n",
       "Source buildability   12.0  0.693543  0.218531  0.392484  0.478959  0.758437   \n",
       "Test buildability     12.0  0.824392  0.288187  0.000645  0.794768  0.952486   \n",
       "Testability_C         12.0  0.315387  0.316517  0.000000  0.000000  0.240406   \n",
       "Testability_B         12.0  0.412270  0.354459  0.000000  0.000000  0.509382   \n",
       "Testability_C         12.0  0.315387  0.316517  0.000000  0.000000  0.240406   \n",
       "\n",
       "                          75%       max  \n",
       "Source buildability  0.884268  0.942532  \n",
       "Test buildability    0.986447  0.999693  \n",
       "Testability_C        0.625397  0.817625  \n",
       "Testability_B        0.712775  0.889744  \n",
       "Testability_C        0.625397  0.817625  "
      ]
     },
     "execution_count": 21,
     "metadata": {},
     "output_type": "execute_result"
    }
   ],
   "source": [
    "viewDistributionOfResults(github_projects)"
   ]
  },
  {
   "cell_type": "markdown",
   "metadata": {},
   "source": [
    "### Many4J"
   ]
  },
  {
   "cell_type": "code",
   "execution_count": 22,
   "metadata": {},
   "outputs": [
    {
     "data": {
      "text/html": [
       "<div>\n",
       "<style scoped>\n",
       "    .dataframe tbody tr th:only-of-type {\n",
       "        vertical-align: middle;\n",
       "    }\n",
       "\n",
       "    .dataframe tbody tr th {\n",
       "        vertical-align: top;\n",
       "    }\n",
       "\n",
       "    .dataframe thead th {\n",
       "        text-align: right;\n",
       "    }\n",
       "</style>\n",
       "<table border=\"1\" class=\"dataframe\">\n",
       "  <thead>\n",
       "    <tr style=\"text-align: right;\">\n",
       "      <th></th>\n",
       "      <th>count</th>\n",
       "      <th>mean</th>\n",
       "      <th>std</th>\n",
       "      <th>min</th>\n",
       "      <th>25%</th>\n",
       "      <th>50%</th>\n",
       "      <th>75%</th>\n",
       "      <th>max</th>\n",
       "    </tr>\n",
       "  </thead>\n",
       "  <tbody>\n",
       "    <tr>\n",
       "      <th>Source buildability</th>\n",
       "      <td>84.0</td>\n",
       "      <td>0.366352</td>\n",
       "      <td>0.320603</td>\n",
       "      <td>0.0</td>\n",
       "      <td>0.035473</td>\n",
       "      <td>0.313531</td>\n",
       "      <td>0.555401</td>\n",
       "      <td>1.000000</td>\n",
       "    </tr>\n",
       "    <tr>\n",
       "      <th>Test buildability</th>\n",
       "      <td>84.0</td>\n",
       "      <td>0.656326</td>\n",
       "      <td>0.421626</td>\n",
       "      <td>0.0</td>\n",
       "      <td>0.076065</td>\n",
       "      <td>0.908499</td>\n",
       "      <td>0.990315</td>\n",
       "      <td>1.000000</td>\n",
       "    </tr>\n",
       "    <tr>\n",
       "      <th>Testability_C</th>\n",
       "      <td>84.0</td>\n",
       "      <td>0.170395</td>\n",
       "      <td>0.236498</td>\n",
       "      <td>0.0</td>\n",
       "      <td>0.000000</td>\n",
       "      <td>0.027566</td>\n",
       "      <td>0.283265</td>\n",
       "      <td>0.935506</td>\n",
       "    </tr>\n",
       "    <tr>\n",
       "      <th>Testability_B</th>\n",
       "      <td>84.0</td>\n",
       "      <td>0.349681</td>\n",
       "      <td>0.383278</td>\n",
       "      <td>0.0</td>\n",
       "      <td>0.000000</td>\n",
       "      <td>0.139064</td>\n",
       "      <td>0.702680</td>\n",
       "      <td>1.000000</td>\n",
       "    </tr>\n",
       "    <tr>\n",
       "      <th>Testability_C</th>\n",
       "      <td>84.0</td>\n",
       "      <td>0.170395</td>\n",
       "      <td>0.236498</td>\n",
       "      <td>0.0</td>\n",
       "      <td>0.000000</td>\n",
       "      <td>0.027566</td>\n",
       "      <td>0.283265</td>\n",
       "      <td>0.935506</td>\n",
       "    </tr>\n",
       "  </tbody>\n",
       "</table>\n",
       "</div>"
      ],
      "text/plain": [
       "                     count      mean       std  min       25%       50%  \\\n",
       "Source buildability   84.0  0.366352  0.320603  0.0  0.035473  0.313531   \n",
       "Test buildability     84.0  0.656326  0.421626  0.0  0.076065  0.908499   \n",
       "Testability_C         84.0  0.170395  0.236498  0.0  0.000000  0.027566   \n",
       "Testability_B         84.0  0.349681  0.383278  0.0  0.000000  0.139064   \n",
       "Testability_C         84.0  0.170395  0.236498  0.0  0.000000  0.027566   \n",
       "\n",
       "                          75%       max  \n",
       "Source buildability  0.555401  1.000000  \n",
       "Test buildability    0.990315  1.000000  \n",
       "Testability_C        0.283265  0.935506  \n",
       "Testability_B        0.702680  1.000000  \n",
       "Testability_C        0.283265  0.935506  "
      ]
     },
     "execution_count": 22,
     "metadata": {},
     "output_type": "execute_result"
    }
   ],
   "source": [
    "viewDistributionOfResults(many4j_projects)"
   ]
  },
  {
   "cell_type": "markdown",
   "metadata": {},
   "source": [
    "## 2. Plot of results"
   ]
  },
  {
   "cell_type": "code",
   "execution_count": 23,
   "metadata": {},
   "outputs": [],
   "source": [
    "def plotProjects(dataset, name, figsize=(6,3)):\n",
    "    \n",
    "    print(\"Max %d\"%dataset['Total Commits'].max())\n",
    "    print(\"Min %d\"%dataset['Total Commits'].min())\n",
    "    \n",
    "    df = dataset[\n",
    "        ['Project', 'Total Commits', 'Source buildable commits', 'Test buildable commits', 'Testable commits']\n",
    "    ].set_index('Project').sort_values(by=['Total Commits'], ascending=False)\n",
    "    \n",
    "    fig, ax = plt.subplots(figsize=figsize)\n",
    "    bar_width = 0.9\n",
    "    index = np.arange(len(df.index))\n",
    "    #index = df.index\n",
    "    \n",
    "    ax.bar(index,df[\"Total Commits\"], bar_width, label=\"Total Commits\", zorder=1, color=\"tab:blue\")\n",
    "    ax.bar(index,df[\"Source buildable commits\"], bar_width, label=\"Source buildable commits\", zorder=1, color=\"orange\")\n",
    "    ax.bar(index,df[\"Test buildable commits\"], bar_width, label=\"Test buildable commits\", zorder=1,color=\"purple\")\n",
    "    ax.bar(index,df[\"Testable commits\"], bar_width, label=\"Testable commits\", zorder=1,color=\"limegreen\")\n",
    "    \n",
    "    ax.set_xlabel('Projects')\n",
    "    ax.set_ylabel('# commits')\n",
    "    ax.get_xaxis().set_ticks([])\n",
    "    \n",
    "    #ax.set_xticklabels(df.index, rotation=90, ha='right')\n",
    "    \n",
    "    plt.legend()\n",
    "    #plt.tight_layout()\n",
    "    plt.savefig(\"latex_figures/\"+name+\".pdf\")\n",
    "    plt.show()"
   ]
  },
  {
   "cell_type": "markdown",
   "metadata": {},
   "source": [
    "### 2.1 Apache"
   ]
  },
  {
   "cell_type": "code",
   "execution_count": 24,
   "metadata": {},
   "outputs": [
    {
     "name": "stdout",
     "output_type": "stream",
     "text": [
      "Max 11377\n",
      "Min 1465\n"
     ]
    },
    {
     "data": {
      "image/png": "[encoded data removed]",
      "text/plain": [
       "<Figure size 432x216 with 1 Axes>"
      ]
     },
     "metadata": {
      "needs_background": "light"
     },
     "output_type": "display_data"
    }
   ],
   "source": [
    "plotProjects(apache_projects, \"Apache\")"
   ]
  },
  {
   "cell_type": "markdown",
   "metadata": {},
   "source": [
    "### 2.2 GitHub"
   ]
  },
  {
   "cell_type": "code",
   "execution_count": 25,
   "metadata": {},
   "outputs": [
    {
     "name": "stdout",
     "output_type": "stream",
     "text": [
      "Max 8356\n",
      "Min 1637\n"
     ]
    },
    {
     "data": {
      "image/png": "[encoded data removed]",
      "text/plain": [
       "<Figure size 432x216 with 1 Axes>"
      ]
     },
     "metadata": {
      "needs_background": "light"
     },
     "output_type": "display_data"
    }
   ],
   "source": [
    "plotProjects(github_projects, \"GitHub\")"
   ]
  },
  {
   "cell_type": "markdown",
   "metadata": {},
   "source": [
    "## 2.3 Many4J"
   ]
  },
  {
   "cell_type": "code",
   "execution_count": 26,
   "metadata": {},
   "outputs": [
    {
     "name": "stdout",
     "output_type": "stream",
     "text": [
      "Max 71543\n",
      "Min 4686\n"
     ]
    },
    {
     "data": {
      "image/png": "[encoded data removed]",
      "text/plain": [
       "<Figure size 432x216 with 1 Axes>"
      ]
     },
     "metadata": {
      "needs_background": "light"
     },
     "output_type": "display_data"
    }
   ],
   "source": [
    "plotProjects(many4j_projects.sort_values(by=['Total Commits'], ascending=False)[0:30], \"Many4j 1-30\")"
   ]
  },
  {
   "cell_type": "code",
   "execution_count": 27,
   "metadata": {},
   "outputs": [
    {
     "name": "stdout",
     "output_type": "stream",
     "text": [
      "Max 4626\n",
      "Min 1195\n"
     ]
    },
    {
     "data": {
      "image/png": "[encoded data removed]",
      "text/plain": [
       "<Figure size 432x216 with 1 Axes>"
      ]
     },
     "metadata": {
      "needs_background": "light"
     },
     "output_type": "display_data"
    }
   ],
   "source": [
    "plotProjects(many4j_projects.sort_values(by=['Total Commits'], ascending=False)[30:60], \"Many4j 31-60\")"
   ]
  },
  {
   "cell_type": "code",
   "execution_count": 28,
   "metadata": {},
   "outputs": [
    {
     "name": "stdout",
     "output_type": "stream",
     "text": [
      "Max 1188\n",
      "Min 31\n"
     ]
    },
    {
     "data": {
      "image/png": "[encoded data removed]",
      "text/plain": [
       "<Figure size 432x216 with 1 Axes>"
      ]
     },
     "metadata": {
      "needs_background": "light"
     },
     "output_type": "display_data"
    }
   ],
   "source": [
    "plotProjects(many4j_projects.sort_values(by=['Total Commits'], ascending=False)[60:85], \"Many4j 61-84\")"
   ]
  },
  {
   "cell_type": "markdown",
   "metadata": {},
   "source": [
    "## 3. Overview of results"
   ]
  },
  {
   "cell_type": "code",
   "execution_count": 29,
   "metadata": {},
   "outputs": [
    {
     "data": {
      "image/png": "[encoded data removed]",
      "text/plain": [
       "<Figure size 1080x576 with 9 Axes>"
      ]
     },
     "metadata": {
      "needs_background": "light"
     },
     "output_type": "display_data"
    }
   ],
   "source": [
    "def setChart(ax, dataset, metric, ylabel=False, xlabel=\"\"):\n",
    "    aux_df = dataset.sort_values(by=metric, ascending=False).reset_index(drop=True)\n",
    "    ax.bar(aux_df.index, aux_df[metric])\n",
    "    ax.set_ylim(0,1)\n",
    "    \n",
    "    ax.get_xaxis().set_ticks([])\n",
    "    \n",
    "    if ylabel: ax.set(ylabel=metric)\n",
    "    if xlabel != \"\": ax.set_title(xlabel)\n",
    "\n",
    "fig, (ax1, ax2, ax3) = plt.subplots(3, 3, figsize=(15,8))\n",
    "\n",
    "setChart(ax1[0], apache_projects, \"Testability_C\", ylabel=True, xlabel=\"Apache\")\n",
    "setChart(ax1[1], github_projects, \"Testability_C\", xlabel=\"GitHub\")\n",
    "setChart(ax1[2], many4j_projects, \"Testability_C\", xlabel=\"Many4J\")\n",
    "setChart(ax2[0], apache_projects, \"Testability_B\", ylabel=True)\n",
    "setChart(ax2[1], github_projects, \"Testability_B\")\n",
    "setChart(ax2[2], many4j_projects, \"Testability_B\")\n",
    "setChart(ax3[0], apache_projects, \"Testability_T\", ylabel=True)\n",
    "setChart(ax3[1], github_projects, \"Testability_T\")\n",
    "setChart(ax3[2], many4j_projects, \"Testability_T\")"
   ]
  }
 ],
 "metadata": {
  "interpreter": {
   "hash": "31f2aee4e71d21fbe5cf8b01ff0e069b9275f58929596ceb00d14d90e3e16cd6"
  },
  "kernelspec": {
   "display_name": "Python 3 (ipykernel)",
   "language": "python",
   "name": "python3"
  },
  "language_info": {
   "codemirror_mode": {
    "name": "ipython",
    "version": 3
   },
   "file_extension": ".py",
   "mimetype": "text/x-python",
   "name": "python",
   "nbconvert_exporter": "python",
   "pygments_lexer": "ipython3",
   "version": "3.9.5"
  }
 },
 "nbformat": 4,
 "nbformat_minor": 2
}
