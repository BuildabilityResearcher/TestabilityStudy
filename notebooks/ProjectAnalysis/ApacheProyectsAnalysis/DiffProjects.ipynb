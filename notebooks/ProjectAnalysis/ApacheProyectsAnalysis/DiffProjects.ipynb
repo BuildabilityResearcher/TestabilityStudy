{
 "cells": [
  {
   "cell_type": "code",
   "execution_count": 26,
   "source": [
    "import pandas as pd \n",
    "import os\n",
    "import numpy as np\n",
    "import csv\n",
    "import matplotlib.pyplot as plt\n",
    "import numpy as np\n",
    "\n",
    "import sys\n",
    "sys.path.append('../') # To import Python script from other location\n",
    "from ProjectAnalysis import ProjectAnalysis"
   ],
   "outputs": [],
   "metadata": {}
  },
  {
   "cell_type": "code",
   "execution_count": 14,
   "source": [
    "projects = ['jclouds', 'maven-plugins','tomee']"
   ],
   "outputs": [],
   "metadata": {}
  },
  {
   "cell_type": "code",
   "execution_count": 33,
   "source": [
    "for project in projects:\n",
    "\n",
    "    pa = ProjectAnalysis(project,  1, root=\"/home/results/Apache/\")\n",
    "    result = []\n",
    "\n",
    "    with open('/home/previousResults/TufanoResults/analyzedProjects/%s/compilation.log.csv'%project, 'r+') as f:\n",
    "        oldResults = list(csv.DictReader(f, delimiter=\",\"))\n",
    "\n",
    "    for idx, commit_dict in enumerate(pa.csvDict.values()):\n",
    "        build=pa.get_build_file(idx, commit_dict['commit'])\n",
    "        hasPomOriginally = oldResults[idx]['POM_FILE'] == 'true'\n",
    "        hasPomNow = any(b['build_system'] == 'Maven' for b in build['builds_checked'])\n",
    "        result.append(hasPomOriginally==hasPomNow)\n",
    "    fig = plt.figure()\n",
    "    ax = fig.add_subplot(111)\n",
    "    ax.imshow([result], aspect='auto', cmap=plt.cm.gray, interpolation='nearest')"
   ],
   "outputs": [
    {
     "output_type": "display_data",
     "data": {
      "text/plain": [
       "<Figure size 432x288 with 1 Axes>"
      ],
      "image/png": "[encoded data removed]"
     },
     "metadata": {
      "needs_background": "light"
     }
    },
    {
     "output_type": "display_data",
     "data": {
      "text/plain": [
       "<Figure size 432x288 with 1 Axes>"
      ],
      "image/png": "[encoded data removed]"
     },
     "metadata": {
      "needs_background": "light"
     }
    },
    {
     "output_type": "display_data",
     "data": {
      "text/plain": [
       "<Figure size 432x288 with 1 Axes>"
      ],
      "image/png": "[encoded data removed]"
     },
     "metadata": {
      "needs_background": "light"
     }
    }
   ],
   "metadata": {}
  },
  {
   "cell_type": "markdown",
   "source": [
    "jclouds\n",
    "-> Commit 1041\n",
    "-> Rewritten the distribution generation to a) use descriptors from a shared dependency b) correctly package transitive dependencies and c) correctly JarJar these dependencies\n",
    "-> Has pom\n",
    "\n",
    "maven-plugins\n",
    "-> Commit 11223\n",
    "-> Upgrade maven-invoker from 2.0.9 to 2.1.1\n",
    "-> Has pom\n",
    "\n",
    "tomee\n",
    "-> Commit 6955\n",
    "-> Defaults and logging to info in ServicePool. Finals. Logging to debug in LocalInitialContext\n",
    "-> Has pom"
   ],
   "metadata": {}
  }
 ],
 "metadata": {
  "kernelspec": {
   "display_name": "Python 3",
   "language": "python",
   "name": "python3"
  },
  "language_info": {
   "codemirror_mode": {
    "name": "ipython",
    "version": 3
   },
   "file_extension": ".py",
   "mimetype": "text/x-python",
   "name": "python",
   "nbconvert_exporter": "python",
   "pygments_lexer": "ipython3",
   "version": "3.7.3"
  }
 },
 "nbformat": 4,
 "nbformat_minor": 2
}