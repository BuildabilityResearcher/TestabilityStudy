{
 "cells": [
  {
   "cell_type": "markdown",
   "metadata": {},
   "source": [
    "# Step 3.2: Apache Log Checker"
   ]
  },
  {
   "cell_type": "code",
   "execution_count": 4,
   "metadata": {},
   "outputs": [],
   "source": [
    "import pandas as pd \n",
    "import os\n",
    "from LogAnalyzerApache import LogAnalyzerApache\n",
    "from threading import Thread, Event\n",
    "import time\n",
    "import json\n",
    "import concurrent.futures\n",
    "import csv\n",
    "import re\n",
    "from collections import Counter\n",
    "\n",
    "results_path=\"/home/results/Apache/\""
   ]
  },
  {
   "cell_type": "code",
   "execution_count": 5,
   "metadata": {},
   "outputs": [],
   "source": [
    "def checkApacheProject(repo):\n",
    "    la = LogAnalyzerApache(repo['PROJECT'], root=results_path)\n",
    "    la.analyze()"
   ]
  },
  {
   "cell_type": "code",
   "execution_count": 6,
   "metadata": {
    "scrolled": false
   },
   "outputs": [
    {
     "name": "stdout",
     "output_type": "stream",
     "text": [
      "> Project james-mime4j already analyzed\n",
      "> Project manifoldcf-integration-solr-4.x already analyzed\n",
      "> Project mahout already analyzed\n",
      "> Project openwebbeans already analyzed\n",
      "> Project oozie already analyzed\n",
      "> Project pluto already analyzed\n",
      "> Project qpid-jms already analyzed\n",
      "> Project maven-plugins already analyzed\n",
      "> Project rampart already analyzed\n",
      "> Project sandesha already analyzed\n",
      "> Project qpid-proton already analyzed\n",
      "> Project roller already analyzed\n",
      "> Project servicemix already analyzed\n",
      "> Project servicemix4-kernel already analyzed> Project servicemix4-features already analyzed\n",
      "\n",
      "> Project servicemix3 already analyzed\n",
      "> Project servicemix4-specs already analyzed\n",
      "> Project servicemix4-bundles already analyzed\n",
      "> Project servicemix-components already analyzed\n",
      "> Project log4j-zeroconf analyzed\n",
      "> Project sirona already analyzed\n",
      "> Project maven-app-engine analyzed\n",
      "> Project struts-sandbox already analyzed\n",
      "> Project tiles-autotag already analyzed\n",
      "> Project tajo already analyzed\n",
      "> Project struts-examples already analyzed\n",
      "> Project tiles already analyzed\n",
      "> Project tuscany-sca-1.x already analyzed\n",
      "> Project uima-addons already analyzed\n",
      "> Project uima-as already analyzed\n",
      "> Project uima-uimafit already analyzed\n",
      "> Project tuscany-sca-2.x already analyzed\n",
      "> Project uima-ruta already analyzed\n",
      "> Project uima-uimaj already analyzed\n",
      "> Project tomee already analyzed\n",
      "> Project velocity-engine already analyzed\n",
      "> Project velocity-tools already analyzed\n",
      "> Project vysper already analyzed\n",
      "> Project myfaces-portlet-bridge analyzed\n",
      "> Project webservices-neethi already analyzed\n",
      "> Project whirr already analyzed> Project wink already analyzed\n",
      "\n",
      "> Project webservices-commons-xmlschema already analyzed\n",
      "> Project wookie already analyzed\n",
      "> Project wss4j already analyzed\n",
      "> Project wicket already analyzed\n",
      "> Project maven-plugin-testing analyzed\n",
      "> Project log4j-component analyzed\n",
      "> Project maven-resources analyzed\n",
      "> Project log4j-extras analyzed\n",
      "> Project james-postage analyzed\n",
      "> Project karaf-cave analyzed\n",
      "> Project myfaces-html5 analyzed\n",
      "> Project maven-jxr analyzed\n",
      "> Project nuvem analyzed\n",
      "> Project james-jdkim analyzed\n",
      "> Project log4j-receivers analyzed\n",
      "> Project maven-doxia-tools analyzed\n",
      "> Project kalumet analyzed\n",
      "> Project myfaces-extval analyzed\n",
      "> Project oltu analyzed\n",
      "> Project james-jsieve analyzed\n",
      "> Project olingo-odata2 analyzed\n",
      "> Project james-jspf analyzed\n",
      "> Project maven-enforcer analyzed\n",
      "> Project odftoolkit analyzed\n",
      "> Project myfaces-scripting analyzed\n",
      "> Project james-hupa analyzed\n",
      "> Project olingo-odata4 analyzed\n",
      "> Project karaf-cellar analyzed\n",
      "> Project maven-scm analyzed\n",
      "> Project maven-doxia analyzed\n",
      "> Project maven-surefire analyzed\n",
      "> Project maven-integration-testing analyzed\n",
      "> Project jena analyzed\n",
      "> Project maven-2 analyzed\n",
      "> Project isis analyzed\n",
      "> Project jclouds analyzed\n",
      "> Project maven analyzed\n"
     ]
    }
   ],
   "source": [
    "projects = pd.read_csv(\"/home/previousResults/TufanoResults/compilability.csv\")\n",
    "future_results = []\n",
    "with concurrent.futures.ThreadPoolExecutor() as executor:\n",
    "    for row in projects.iterrows():\n",
    "        repo = row[1]\n",
    "        executor.submit(checkApacheProject, repo)"
   ]
  }
 ],
 "metadata": {
  "kernelspec": {
   "display_name": "Python 3",
   "language": "python",
   "name": "python3"
  },
  "language_info": {
   "codemirror_mode": {
    "name": "ipython",
    "version": 3
   },
   "file_extension": ".py",
   "mimetype": "text/x-python",
   "name": "python",
   "nbconvert_exporter": "python",
   "pygments_lexer": "ipython3",
   "version": "3.7.3"
  }
 },
 "nbformat": 4,
 "nbformat_minor": 2
}
